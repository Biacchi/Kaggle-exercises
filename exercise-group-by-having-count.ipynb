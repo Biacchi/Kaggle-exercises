{
 "cells": [
  {
   "cell_type": "markdown",
   "id": "e3884f27",
   "metadata": {
    "papermill": {
     "duration": 0.006113,
     "end_time": "2023-10-22T23:47:49.378141",
     "exception": false,
     "start_time": "2023-10-22T23:47:49.372028",
     "status": "completed"
    },
    "tags": []
   },
   "source": [
    "**This notebook is an exercise in the [SQL](https://www.kaggle.com/learn/intro-to-sql) course.  You can reference the tutorial at [this link](https://www.kaggle.com/dansbecker/group-by-having-count).**\n",
    "\n",
    "---\n"
   ]
  },
  {
   "cell_type": "markdown",
   "id": "da9f451c",
   "metadata": {
    "papermill": {
     "duration": 0.005793,
     "end_time": "2023-10-22T23:47:49.391764",
     "exception": false,
     "start_time": "2023-10-22T23:47:49.385971",
     "status": "completed"
    },
    "tags": []
   },
   "source": [
    "# Introduction\n",
    "\n",
    "Queries with **GROUP BY** can be powerful. There are many small things that can trip you up (like the order of the clauses), but it will start to feel natural once you've done it a few times. Here, you'll write queries using **GROUP BY** to answer questions from the Hacker News dataset.\n",
    "\n",
    "Before you get started, run the following cell to set everything up:"
   ]
  },
  {
   "cell_type": "markdown",
   "id": "5e92859f",
   "metadata": {
    "papermill": {
     "duration": 0.0054,
     "end_time": "2023-10-22T23:47:49.403205",
     "exception": false,
     "start_time": "2023-10-22T23:47:49.397805",
     "status": "completed"
    },
    "tags": []
   },
   "source": [
    "# I used this to fix the issue \n",
    "\n",
    "There was a problem with this exercise, so I found this fix. \n",
    "\n",
    "https://www.kaggle.com/learn/intro-to-sql/discussion/417044#2316394"
   ]
  },
  {
   "cell_type": "markdown",
   "id": "f28c5433",
   "metadata": {
    "papermill": {
     "duration": 0.005313,
     "end_time": "2023-10-22T23:47:49.414273",
     "exception": false,
     "start_time": "2023-10-22T23:47:49.408960",
     "status": "completed"
    },
    "tags": []
   },
   "source": []
  },
  {
   "cell_type": "code",
   "execution_count": 1,
   "id": "696c7f20",
   "metadata": {
    "execution": {
     "iopub.execute_input": "2023-10-22T23:47:49.427366Z",
     "iopub.status.busy": "2023-10-22T23:47:49.426932Z",
     "iopub.status.idle": "2023-10-22T23:47:59.098817Z",
     "shell.execute_reply": "2023-10-22T23:47:59.097381Z"
    },
    "papermill": {
     "duration": 9.681938,
     "end_time": "2023-10-22T23:47:59.101887",
     "exception": false,
     "start_time": "2023-10-22T23:47:49.419949",
     "status": "completed"
    },
    "tags": []
   },
   "outputs": [
    {
     "name": "stdout",
     "output_type": "stream",
     "text": [
      "Using Kaggle's public dataset BigQuery integration.\n"
     ]
    }
   ],
   "source": [
    "from learntools.core import binder\n",
    "binder.bind(globals())\n",
    "# Read ex3.py and apply some \"fixes\"\n",
    "with open(\"/opt/conda/lib/python3.10/site-packages/learntools/sql/ex3.py\",\"r\") as f:\n",
    "    ex3 = f.read()\n",
    "    ex3 = ex3.replace(\"SELECT author\",\"SELECT `by`\") # need to use backtick since column name is 'by' which is also a SQL keyword\n",
    "    ex3 = ex3.replace(\"GROUP BY author\",\"GROUP BY `by`\")\n",
    "    ex3 = ex3.replace(\"\\'author\\'\",\"\\'by\\'\")\n",
    "    ex3 = ex3.replace(\"`author`\",\"\\`by\\`\")\n",
    "    ex3 = ex3.replace(\"bigquery-public-data.hacker_news.comments\",\"bigquery-public-data.hacker_news.full\")\n",
    "\n",
    "    # Write fixes into v2 file\n",
    "    with open(\"/opt/conda/lib/python3.10/site-packages/learntools/sql/ex3_v2.py\",\"w\") as f2:\n",
    "        f2.write(ex3)\n",
    "\n",
    "# Verify file looks good\n",
    "# with open(\"/opt/conda/lib/python3.10/site-packages/learntools/sql/ex3_v2.py\",\"r\") as f:\n",
    "#     print(f.read())\n",
    "\n",
    "# Import v2\n",
    "from learntools.sql.ex3_v2 import *"
   ]
  },
  {
   "cell_type": "markdown",
   "id": "d1df04a0",
   "metadata": {
    "papermill": {
     "duration": 0.005528,
     "end_time": "2023-10-22T23:47:59.113593",
     "exception": false,
     "start_time": "2023-10-22T23:47:59.108065",
     "status": "completed"
    },
    "tags": []
   },
   "source": [
    "The code cell below fetches the `comments` table from the `hacker_news` dataset.  We also preview the first five rows of the table."
   ]
  },
  {
   "cell_type": "code",
   "execution_count": 2,
   "id": "e1424a79",
   "metadata": {
    "execution": {
     "iopub.execute_input": "2023-10-22T23:47:59.127355Z",
     "iopub.status.busy": "2023-10-22T23:47:59.126690Z",
     "iopub.status.idle": "2023-10-22T23:48:00.785223Z",
     "shell.execute_reply": "2023-10-22T23:48:00.784048Z"
    },
    "papermill": {
     "duration": 1.66956,
     "end_time": "2023-10-22T23:48:00.788992",
     "exception": false,
     "start_time": "2023-10-22T23:47:59.119432",
     "status": "completed"
    },
    "tags": []
   },
   "outputs": [
    {
     "name": "stdout",
     "output_type": "stream",
     "text": [
      "Using Kaggle's public dataset BigQuery integration.\n"
     ]
    },
    {
     "data": {
      "text/html": [
       "<div>\n",
       "<style scoped>\n",
       "    .dataframe tbody tr th:only-of-type {\n",
       "        vertical-align: middle;\n",
       "    }\n",
       "\n",
       "    .dataframe tbody tr th {\n",
       "        vertical-align: top;\n",
       "    }\n",
       "\n",
       "    .dataframe thead th {\n",
       "        text-align: right;\n",
       "    }\n",
       "</style>\n",
       "<table border=\"1\" class=\"dataframe\">\n",
       "  <thead>\n",
       "    <tr style=\"text-align: right;\">\n",
       "      <th></th>\n",
       "      <th>title</th>\n",
       "      <th>url</th>\n",
       "      <th>text</th>\n",
       "      <th>dead</th>\n",
       "      <th>by</th>\n",
       "      <th>score</th>\n",
       "      <th>time</th>\n",
       "      <th>timestamp</th>\n",
       "      <th>type</th>\n",
       "      <th>id</th>\n",
       "      <th>parent</th>\n",
       "      <th>descendants</th>\n",
       "      <th>ranking</th>\n",
       "      <th>deleted</th>\n",
       "    </tr>\n",
       "  </thead>\n",
       "  <tbody>\n",
       "    <tr>\n",
       "      <th>0</th>\n",
       "      <td>None</td>\n",
       "      <td>None</td>\n",
       "      <td>I would rather just have wired earbuds, period...</td>\n",
       "      <td>None</td>\n",
       "      <td>zeveb</td>\n",
       "      <td>NaN</td>\n",
       "      <td>1591717736</td>\n",
       "      <td>2020-06-09 15:48:56+00:00</td>\n",
       "      <td>comment</td>\n",
       "      <td>23467666</td>\n",
       "      <td>23456782</td>\n",
       "      <td>NaN</td>\n",
       "      <td>NaN</td>\n",
       "      <td>None</td>\n",
       "    </tr>\n",
       "    <tr>\n",
       "      <th>1</th>\n",
       "      <td>None</td>\n",
       "      <td>None</td>\n",
       "      <td>DNS?</td>\n",
       "      <td>None</td>\n",
       "      <td>nly</td>\n",
       "      <td>NaN</td>\n",
       "      <td>1572810465</td>\n",
       "      <td>2019-11-03 19:47:45+00:00</td>\n",
       "      <td>comment</td>\n",
       "      <td>21436112</td>\n",
       "      <td>21435130</td>\n",
       "      <td>NaN</td>\n",
       "      <td>NaN</td>\n",
       "      <td>None</td>\n",
       "    </tr>\n",
       "    <tr>\n",
       "      <th>2</th>\n",
       "      <td>None</td>\n",
       "      <td>None</td>\n",
       "      <td>These benchmarks seem pretty good.  Filterable...</td>\n",
       "      <td>None</td>\n",
       "      <td>mrkeen</td>\n",
       "      <td>NaN</td>\n",
       "      <td>1591717727</td>\n",
       "      <td>2020-06-09 15:48:47+00:00</td>\n",
       "      <td>comment</td>\n",
       "      <td>23467665</td>\n",
       "      <td>23467426</td>\n",
       "      <td>NaN</td>\n",
       "      <td>NaN</td>\n",
       "      <td>None</td>\n",
       "    </tr>\n",
       "    <tr>\n",
       "      <th>3</th>\n",
       "      <td>None</td>\n",
       "      <td>None</td>\n",
       "      <td>Oh really?&lt;p&gt;* Excel alone uses 86.1MB of priv...</td>\n",
       "      <td>None</td>\n",
       "      <td>oceanswave</td>\n",
       "      <td>NaN</td>\n",
       "      <td>1462987532</td>\n",
       "      <td>2016-05-11 17:25:32+00:00</td>\n",
       "      <td>comment</td>\n",
       "      <td>11677248</td>\n",
       "      <td>11676886</td>\n",
       "      <td>NaN</td>\n",
       "      <td>NaN</td>\n",
       "      <td>None</td>\n",
       "    </tr>\n",
       "    <tr>\n",
       "      <th>4</th>\n",
       "      <td>None</td>\n",
       "      <td>None</td>\n",
       "      <td>These systems are useless.  Of the many flaws:...</td>\n",
       "      <td>None</td>\n",
       "      <td>nyxxie</td>\n",
       "      <td>NaN</td>\n",
       "      <td>1572810473</td>\n",
       "      <td>2019-11-03 19:47:53+00:00</td>\n",
       "      <td>comment</td>\n",
       "      <td>21436113</td>\n",
       "      <td>21435025</td>\n",
       "      <td>NaN</td>\n",
       "      <td>NaN</td>\n",
       "      <td>None</td>\n",
       "    </tr>\n",
       "  </tbody>\n",
       "</table>\n",
       "</div>"
      ],
      "text/plain": [
       "  title   url                                               text  dead  \\\n",
       "0  None  None  I would rather just have wired earbuds, period...  None   \n",
       "1  None  None                                               DNS?  None   \n",
       "2  None  None  These benchmarks seem pretty good.  Filterable...  None   \n",
       "3  None  None  Oh really?<p>* Excel alone uses 86.1MB of priv...  None   \n",
       "4  None  None  These systems are useless.  Of the many flaws:...  None   \n",
       "\n",
       "           by  score        time                 timestamp     type        id  \\\n",
       "0       zeveb    NaN  1591717736 2020-06-09 15:48:56+00:00  comment  23467666   \n",
       "1         nly    NaN  1572810465 2019-11-03 19:47:45+00:00  comment  21436112   \n",
       "2      mrkeen    NaN  1591717727 2020-06-09 15:48:47+00:00  comment  23467665   \n",
       "3  oceanswave    NaN  1462987532 2016-05-11 17:25:32+00:00  comment  11677248   \n",
       "4      nyxxie    NaN  1572810473 2019-11-03 19:47:53+00:00  comment  21436113   \n",
       "\n",
       "     parent  descendants  ranking deleted  \n",
       "0  23456782          NaN      NaN    None  \n",
       "1  21435130          NaN      NaN    None  \n",
       "2  23467426          NaN      NaN    None  \n",
       "3  11676886          NaN      NaN    None  \n",
       "4  21435025          NaN      NaN    None  "
      ]
     },
     "execution_count": 2,
     "metadata": {},
     "output_type": "execute_result"
    }
   ],
   "source": [
    "from google.cloud import bigquery\n",
    "\n",
    "# Create a \"Client\" object\n",
    "client = bigquery.Client()\n",
    "\n",
    "# Construct a reference to the \"hacker_news\" dataset\n",
    "dataset_ref = client.dataset(\"hacker_news\", project=\"bigquery-public-data\")\n",
    "\n",
    "# API request - fetch the dataset\n",
    "dataset = client.get_dataset(dataset_ref)\n",
    "\n",
    "# Construct a reference to the \"comments\" table\n",
    "table_ref = dataset_ref.table(\"full\") \n",
    "\n",
    "# API request - fetch the table\n",
    "table = client.get_table(table_ref)\n",
    "\n",
    "# Preview the first five lines of the \"comments\" table\n",
    "client.list_rows(table, max_results=5).to_dataframe()"
   ]
  },
  {
   "cell_type": "markdown",
   "id": "9eef911c",
   "metadata": {
    "papermill": {
     "duration": 0.006078,
     "end_time": "2023-10-22T23:48:00.802158",
     "exception": false,
     "start_time": "2023-10-22T23:48:00.796080",
     "status": "completed"
    },
    "tags": []
   },
   "source": [
    "# Exercises\n",
    "\n",
    "### 1) Prolific commenters\n",
    "\n",
    "Hacker News would like to send awards to everyone who has written more than 10,000 posts. Write a query that returns all authors with more than 10,000 posts as well as their post counts. Call the column with post counts `NumPosts`.\n",
    "\n",
    "In case sample query is helpful, here is a query you saw in the tutorial to answer a similar question:\n",
    "```\n",
    "query = \"\"\"\n",
    "        SELECT parent, COUNT(1) AS NumPosts\n",
    "        FROM `bigquery-public-data.hacker_news.comments`\n",
    "        GROUP BY parent\n",
    "        HAVING COUNT(1) > 10\n",
    "        \"\"\"\n",
    "```"
   ]
  },
  {
   "cell_type": "code",
   "execution_count": 3,
   "id": "469f8377",
   "metadata": {
    "execution": {
     "iopub.execute_input": "2023-10-22T23:48:00.816512Z",
     "iopub.status.busy": "2023-10-22T23:48:00.816114Z",
     "iopub.status.idle": "2023-10-22T23:48:02.539999Z",
     "shell.execute_reply": "2023-10-22T23:48:02.538403Z"
    },
    "papermill": {
     "duration": 1.734316,
     "end_time": "2023-10-22T23:48:02.542839",
     "exception": false,
     "start_time": "2023-10-22T23:48:00.808523",
     "status": "completed"
    },
    "tags": []
   },
   "outputs": [
    {
     "name": "stdout",
     "output_type": "stream",
     "text": [
      "             by  NumPosts\n",
      "0       rhizome     11014\n",
      "1         gruez     11242\n",
      "2   chrisseaton     13650\n",
      "3      ceejayoz     17201\n",
      "4  dragonwriter     46333\n"
     ]
    },
    {
     "data": {
      "application/javascript": [
       "parent.postMessage({\"jupyterEvent\": \"custom.exercise_interaction\", \"data\": {\"outcomeType\": 1, \"valueTowardsCompletion\": 0.5, \"interactionType\": 1, \"questionType\": 2, \"questionId\": \"1_ProlificCommenters\", \"learnToolsVersion\": \"0.3.4\", \"failureMessage\": \"\", \"exceptionClass\": \"\", \"trace\": \"\"}}, \"*\")"
      ],
      "text/plain": [
       "<IPython.core.display.Javascript object>"
      ]
     },
     "metadata": {},
     "output_type": "display_data"
    },
    {
     "data": {
      "text/markdown": [
       "<span style=\"color:#33cc33\">Correct</span>"
      ],
      "text/plain": [
       "Correct"
      ]
     },
     "metadata": {},
     "output_type": "display_data"
    }
   ],
   "source": [
    "# Query to select prolific commenters and post counts\n",
    "prolific_commenters_query = \"\"\"\n",
    "                            SELECT `by`, COUNT(1) AS NumPosts\n",
    "                            FROM `bigquery-public-data.hacker_news.full`\n",
    "                            GROUP BY `by`\n",
    "                            HAVING COUNT(1) > 10000\n",
    "                            \"\"\" \n",
    "\n",
    "# Set up the query (cancel the query if it would use too much of \n",
    "# your quota, with the limit set to 1 GB)\n",
    "safe_config = bigquery.QueryJobConfig(maximum_bytes_billed=10**10)\n",
    "query_job = client.query(prolific_commenters_query, job_config=safe_config)\n",
    "\n",
    "# API request - run the query, and return a pandas DataFrame\n",
    "prolific_commenters = query_job.to_dataframe()\n",
    "\n",
    "# View top few rows of results\n",
    "print(prolific_commenters.head())\n",
    "\n",
    "# Check your answer\n",
    "q_1.check()"
   ]
  },
  {
   "cell_type": "markdown",
   "id": "246ef1aa",
   "metadata": {
    "papermill": {
     "duration": 0.006736,
     "end_time": "2023-10-22T23:48:02.556780",
     "exception": false,
     "start_time": "2023-10-22T23:48:02.550044",
     "status": "completed"
    },
    "tags": []
   },
   "source": [
    "For the solution, uncomment the line below."
   ]
  },
  {
   "cell_type": "code",
   "execution_count": 4,
   "id": "013c4ee3",
   "metadata": {
    "execution": {
     "iopub.execute_input": "2023-10-22T23:48:02.572473Z",
     "iopub.status.busy": "2023-10-22T23:48:02.572083Z",
     "iopub.status.idle": "2023-10-22T23:48:02.576949Z",
     "shell.execute_reply": "2023-10-22T23:48:02.575702Z"
    },
    "papermill": {
     "duration": 0.015979,
     "end_time": "2023-10-22T23:48:02.579510",
     "exception": false,
     "start_time": "2023-10-22T23:48:02.563531",
     "status": "completed"
    },
    "tags": []
   },
   "outputs": [],
   "source": [
    "# q_1.solution()"
   ]
  },
  {
   "cell_type": "markdown",
   "id": "61e4ee7a",
   "metadata": {
    "papermill": {
     "duration": 0.006442,
     "end_time": "2023-10-22T23:48:02.592942",
     "exception": false,
     "start_time": "2023-10-22T23:48:02.586500",
     "status": "completed"
    },
    "tags": []
   },
   "source": [
    "### 2) Deleted comments\n",
    "\n",
    "How many comments have been deleted? (If a comment was deleted, the `deleted` column in the comments table will have the value `True`.)"
   ]
  },
  {
   "cell_type": "code",
   "execution_count": 5,
   "id": "be4492e2",
   "metadata": {
    "execution": {
     "iopub.execute_input": "2023-10-22T23:48:02.608980Z",
     "iopub.status.busy": "2023-10-22T23:48:02.607800Z",
     "iopub.status.idle": "2023-10-22T23:48:04.451613Z",
     "shell.execute_reply": "2023-10-22T23:48:04.450303Z"
    },
    "papermill": {
     "duration": 1.854752,
     "end_time": "2023-10-22T23:48:04.454378",
     "exception": false,
     "start_time": "2023-10-22T23:48:02.599626",
     "status": "completed"
    },
    "tags": []
   },
   "outputs": [
    {
     "name": "stdout",
     "output_type": "stream",
     "text": [
      "   DeletedComments\n",
      "0           968172\n"
     ]
    }
   ],
   "source": [
    "# Write your query here and figure out the answer\n",
    "\n",
    "# Query to select prolific commenters and post counts\n",
    "deleted_comments = \"\"\"\n",
    "                    SELECT COUNT(deleted) AS DeletedComments\n",
    "                    FROM `bigquery-public-data.hacker_news.full`\n",
    "                    WHERE deleted = True\n",
    "                    \"\"\" \n",
    "\n",
    "# Set up the query (cancel the query if it would use too much of \n",
    "# your quota, with the limit set to 1 GB)\n",
    "safe_config = bigquery.QueryJobConfig(maximum_bytes_billed=10**10)\n",
    "query_job = client.query(deleted_comments, job_config=safe_config)\n",
    "\n",
    "# API request - run the query, and return a pandas DataFrame\n",
    "all_deleted_comments = query_job.to_dataframe()\n",
    "\n",
    "# View top few rows of results\n",
    "print(all_deleted_comments.head())\n"
   ]
  },
  {
   "cell_type": "code",
   "execution_count": 6,
   "id": "65ffa95c",
   "metadata": {
    "execution": {
     "iopub.execute_input": "2023-10-22T23:48:04.470461Z",
     "iopub.status.busy": "2023-10-22T23:48:04.470028Z",
     "iopub.status.idle": "2023-10-22T23:48:04.480463Z",
     "shell.execute_reply": "2023-10-22T23:48:04.479247Z"
    },
    "papermill": {
     "duration": 0.021164,
     "end_time": "2023-10-22T23:48:04.482819",
     "exception": false,
     "start_time": "2023-10-22T23:48:04.461655",
     "status": "completed"
    },
    "tags": []
   },
   "outputs": [
    {
     "data": {
      "application/javascript": [
       "parent.postMessage({\"jupyterEvent\": \"custom.exercise_interaction\", \"data\": {\"outcomeType\": 1, \"valueTowardsCompletion\": 0.5, \"interactionType\": 1, \"questionType\": 1, \"questionId\": \"2_NumDeletedPosts\", \"learnToolsVersion\": \"0.3.4\", \"failureMessage\": \"\", \"exceptionClass\": \"\", \"trace\": \"\"}}, \"*\")"
      ],
      "text/plain": [
       "<IPython.core.display.Javascript object>"
      ]
     },
     "metadata": {},
     "output_type": "display_data"
    },
    {
     "data": {
      "text/markdown": [
       "<span style=\"color:#33cc33\">Correct</span>"
      ],
      "text/plain": [
       "Correct"
      ]
     },
     "metadata": {},
     "output_type": "display_data"
    }
   ],
   "source": [
    "num_deleted_posts = 968172\n",
    "\n",
    "# Check your answer\n",
    "q_2.check()"
   ]
  },
  {
   "cell_type": "markdown",
   "id": "f1eba3e1",
   "metadata": {
    "papermill": {
     "duration": 0.006713,
     "end_time": "2023-10-22T23:48:04.496626",
     "exception": false,
     "start_time": "2023-10-22T23:48:04.489913",
     "status": "completed"
    },
    "tags": []
   },
   "source": [
    "For the solution, uncomment the line below."
   ]
  },
  {
   "cell_type": "code",
   "execution_count": 7,
   "id": "6ab23539",
   "metadata": {
    "execution": {
     "iopub.execute_input": "2023-10-22T23:48:04.513371Z",
     "iopub.status.busy": "2023-10-22T23:48:04.512499Z",
     "iopub.status.idle": "2023-10-22T23:48:04.517136Z",
     "shell.execute_reply": "2023-10-22T23:48:04.516272Z"
    },
    "papermill": {
     "duration": 0.015423,
     "end_time": "2023-10-22T23:48:04.519334",
     "exception": false,
     "start_time": "2023-10-22T23:48:04.503911",
     "status": "completed"
    },
    "tags": []
   },
   "outputs": [],
   "source": [
    "#q_2.solution()"
   ]
  },
  {
   "cell_type": "markdown",
   "id": "17267cf8",
   "metadata": {
    "papermill": {
     "duration": 0.006803,
     "end_time": "2023-10-22T23:48:04.533227",
     "exception": false,
     "start_time": "2023-10-22T23:48:04.526424",
     "status": "completed"
    },
    "tags": []
   },
   "source": [
    "# Keep Going\n",
    "**[Click here](https://www.kaggle.com/dansbecker/order-by)** to move on and learn about the **ORDER BY** clause."
   ]
  },
  {
   "cell_type": "markdown",
   "id": "df506a86",
   "metadata": {
    "papermill": {
     "duration": 0.006787,
     "end_time": "2023-10-22T23:48:04.547125",
     "exception": false,
     "start_time": "2023-10-22T23:48:04.540338",
     "status": "completed"
    },
    "tags": []
   },
   "source": [
    "---\n",
    "\n",
    "\n",
    "\n",
    "\n",
    "*Have questions or comments? Visit the [course discussion forum](https://www.kaggle.com/learn/intro-to-sql/discussion) to chat with other learners.*"
   ]
  }
 ],
 "metadata": {
  "kernelspec": {
   "display_name": "Python 3",
   "language": "python",
   "name": "python3"
  },
  "language_info": {
   "codemirror_mode": {
    "name": "ipython",
    "version": 3
   },
   "file_extension": ".py",
   "mimetype": "text/x-python",
   "name": "python",
   "nbconvert_exporter": "python",
   "pygments_lexer": "ipython3",
   "version": "3.10.12"
  },
  "papermill": {
   "default_parameters": {},
   "duration": 19.717772,
   "end_time": "2023-10-22T23:48:05.377060",
   "environment_variables": {},
   "exception": null,
   "input_path": "__notebook__.ipynb",
   "output_path": "__notebook__.ipynb",
   "parameters": {},
   "start_time": "2023-10-22T23:47:45.659288",
   "version": "2.4.0"
  }
 },
 "nbformat": 4,
 "nbformat_minor": 5
}
